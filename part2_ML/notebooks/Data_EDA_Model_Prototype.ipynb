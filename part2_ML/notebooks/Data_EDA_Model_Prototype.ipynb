{
 "cells": [
  {
   "cell_type": "markdown",
   "metadata": {},
   "source": [
    "# Introduction\n",
    "\n",
    "The goal of this notebooks is to explore a given dataset of users who have installed our mobile app and their associated features and predict if a user will listen to podcasts."
   ]
  },
  {
   "cell_type": "code",
   "execution_count": 34,
   "metadata": {
    "collapsed": false
   },
   "outputs": [],
   "source": [
    "# Libraries\n",
    "# Standard libraries\n",
    "import pandas as pd\n",
    "import numpy as np\n",
    "\n",
    "# Statistics and modelings libraries\n",
    "import sklearn\n",
    "\n",
    "# Data Viz\n",
    "import matplotlib.pyplot as plt\n",
    "from matplotlib.patches import Patch\n",
    "from matplotlib.lines import Line2D\n",
    "import seaborn as sns\n",
    "%matplotlib inline"
   ]
  },
  {
   "cell_type": "code",
   "execution_count": 5,
   "metadata": {
    "collapsed": true
   },
   "outputs": [],
   "source": [
    "# Inputs\n",
    "\n",
    "path_to_data = '/Users/juliameo/dataIntelligence_exercise/part2_ML/data/ds_practical.txt'"
   ]
  },
  {
   "cell_type": "markdown",
   "metadata": {},
   "source": [
    "## Reading in Data and Prepping"
   ]
  },
  {
   "cell_type": "code",
   "execution_count": 8,
   "metadata": {
    "collapsed": false
   },
   "outputs": [],
   "source": [
    "raw_df = pd.read_csv(path_to_data,\n",
    "                    sep='|')"
   ]
  },
  {
   "cell_type": "code",
   "execution_count": 15,
   "metadata": {
    "collapsed": false
   },
   "outputs": [
    {
     "data": {
      "text/html": [
       "<div>\n",
       "<table border=\"1\" class=\"dataframe\">\n",
       "  <thead>\n",
       "    <tr style=\"text-align: right;\">\n",
       "      <th></th>\n",
       "      <th>anon_person_id</th>\n",
       "      <th>target</th>\n",
       "      <th>state</th>\n",
       "      <th>presence_of_child_ind</th>\n",
       "      <th>streaming_media_subs</th>\n",
       "      <th>streaming_entertainment_subs</th>\n",
       "      <th>marital_status</th>\n",
       "      <th>gender</th>\n",
       "      <th>income</th>\n",
       "      <th>number_of_news_subs</th>\n",
       "      <th>age</th>\n",
       "    </tr>\n",
       "  </thead>\n",
       "  <tbody>\n",
       "    <tr>\n",
       "      <th>0</th>\n",
       "      <td>1</td>\n",
       "      <td>0</td>\n",
       "      <td>CA</td>\n",
       "      <td>0</td>\n",
       "      <td>N</td>\n",
       "      <td>0</td>\n",
       "      <td>M</td>\n",
       "      <td>Female</td>\n",
       "      <td>$175k-199k</td>\n",
       "      <td>0</td>\n",
       "      <td>43.0</td>\n",
       "    </tr>\n",
       "    <tr>\n",
       "      <th>1</th>\n",
       "      <td>2</td>\n",
       "      <td>0</td>\n",
       "      <td>CA</td>\n",
       "      <td>0</td>\n",
       "      <td>N</td>\n",
       "      <td>0</td>\n",
       "      <td>U</td>\n",
       "      <td>Male</td>\n",
       "      <td>$225k-249k</td>\n",
       "      <td>0</td>\n",
       "      <td>90.0</td>\n",
       "    </tr>\n",
       "    <tr>\n",
       "      <th>2</th>\n",
       "      <td>3</td>\n",
       "      <td>1</td>\n",
       "      <td>CA</td>\n",
       "      <td>0</td>\n",
       "      <td>Y</td>\n",
       "      <td>1</td>\n",
       "      <td>S</td>\n",
       "      <td>Female</td>\n",
       "      <td>$150k-174k</td>\n",
       "      <td>0</td>\n",
       "      <td>46.0</td>\n",
       "    </tr>\n",
       "    <tr>\n",
       "      <th>3</th>\n",
       "      <td>4</td>\n",
       "      <td>0</td>\n",
       "      <td>CA</td>\n",
       "      <td>1</td>\n",
       "      <td>N</td>\n",
       "      <td>0</td>\n",
       "      <td>U</td>\n",
       "      <td>Female</td>\n",
       "      <td>$125k-149k</td>\n",
       "      <td>0</td>\n",
       "      <td>25.0</td>\n",
       "    </tr>\n",
       "    <tr>\n",
       "      <th>4</th>\n",
       "      <td>5</td>\n",
       "      <td>0</td>\n",
       "      <td>CA</td>\n",
       "      <td>0</td>\n",
       "      <td>N</td>\n",
       "      <td>0</td>\n",
       "      <td>U</td>\n",
       "      <td>Female</td>\n",
       "      <td>$175k-199k</td>\n",
       "      <td>0</td>\n",
       "      <td>62.0</td>\n",
       "    </tr>\n",
       "  </tbody>\n",
       "</table>\n",
       "</div>"
      ],
      "text/plain": [
       "   anon_person_id  target state  presence_of_child_ind streaming_media_subs  \\\n",
       "0               1       0    CA                      0                    N   \n",
       "1               2       0    CA                      0                    N   \n",
       "2               3       1    CA                      0                    Y   \n",
       "3               4       0    CA                      1                    N   \n",
       "4               5       0    CA                      0                    N   \n",
       "\n",
       "   streaming_entertainment_subs marital_status  gender      income  \\\n",
       "0                             0              M  Female  $175k-199k   \n",
       "1                             0              U    Male  $225k-249k   \n",
       "2                             1              S  Female  $150k-174k   \n",
       "3                             0              U  Female  $125k-149k   \n",
       "4                             0              U  Female  $175k-199k   \n",
       "\n",
       "   number_of_news_subs   age  \n",
       "0                    0  43.0  \n",
       "1                    0  90.0  \n",
       "2                    0  46.0  \n",
       "3                    0  25.0  \n",
       "4                    0  62.0  "
      ]
     },
     "execution_count": 15,
     "metadata": {},
     "output_type": "execute_result"
    }
   ],
   "source": [
    "raw_df.head()"
   ]
  },
  {
   "cell_type": "code",
   "execution_count": 16,
   "metadata": {
    "collapsed": false
   },
   "outputs": [
    {
     "data": {
      "text/plain": [
       "(1000000, 11)"
      ]
     },
     "execution_count": 16,
     "metadata": {},
     "output_type": "execute_result"
    }
   ],
   "source": [
    "raw_df.shape"
   ]
  },
  {
   "cell_type": "code",
   "execution_count": 20,
   "metadata": {
    "collapsed": false
   },
   "outputs": [],
   "source": [
    "# Dropping exact duplicates\n",
    "raw_df.drop_duplicates(inplace=True)"
   ]
  },
  {
   "cell_type": "code",
   "execution_count": 21,
   "metadata": {
    "collapsed": false
   },
   "outputs": [
    {
     "data": {
      "text/plain": [
       "(999500, 11)"
      ]
     },
     "execution_count": 21,
     "metadata": {},
     "output_type": "execute_result"
    }
   ],
   "source": [
    "raw_df.shape"
   ]
  },
  {
   "cell_type": "code",
   "execution_count": 22,
   "metadata": {
    "collapsed": false
   },
   "outputs": [
    {
     "data": {
      "text/plain": [
       "999500"
      ]
     },
     "execution_count": 22,
     "metadata": {},
     "output_type": "execute_result"
    }
   ],
   "source": [
    "raw_df.anon_person_id.nunique()"
   ]
  },
  {
   "cell_type": "code",
   "execution_count": 26,
   "metadata": {
    "collapsed": false
   },
   "outputs": [
    {
     "data": {
      "text/plain": [
       "anon_person_id                      0\n",
       "target                              0\n",
       "state                           10024\n",
       "presence_of_child_ind               0\n",
       "streaming_media_subs                0\n",
       "streaming_entertainment_subs        0\n",
       "marital_status                      0\n",
       "gender                              0\n",
       "income                              0\n",
       "number_of_news_subs                 0\n",
       "age                             19601\n",
       "dtype: int64"
      ]
     },
     "execution_count": 26,
     "metadata": {},
     "output_type": "execute_result"
    }
   ],
   "source": [
    "# Looking at count of nulls per column\n",
    "raw_df.isnull().sum(axis=0)"
   ]
  },
  {
   "cell_type": "code",
   "execution_count": 31,
   "metadata": {
    "collapsed": true
   },
   "outputs": [],
   "source": [
    "# Converting the streaming_media_subs field to actual boolean\n",
    "raw_df['streaming_media_subs'] = np.where(raw_df['streaming_media_subs']=='Y',1,0)"
   ]
  },
  {
   "cell_type": "code",
   "execution_count": 58,
   "metadata": {
    "collapsed": false
   },
   "outputs": [],
   "source": [
    "# Changning the boolean fields to object type\n",
    "raw_df['presence_of_child_ind'] = raw_df['presence_of_child_ind'].astype(str)\n",
    "raw_df['streaming_media_subs'] = raw_df['streaming_media_subs'].astype(str)\n",
    "raw_df['streaming_entertainment_subs'] = raw_df['streaming_entertainment_subs'].astype(str)"
   ]
  },
  {
   "cell_type": "code",
   "execution_count": 59,
   "metadata": {
    "collapsed": false
   },
   "outputs": [
    {
     "data": {
      "text/plain": [
       "anon_person_id                    int64\n",
       "target                            int64\n",
       "state                            object\n",
       "presence_of_child_ind            object\n",
       "streaming_media_subs             object\n",
       "streaming_entertainment_subs     object\n",
       "marital_status                   object\n",
       "gender                           object\n",
       "income                           object\n",
       "number_of_news_subs               int64\n",
       "age                             float64\n",
       "dtype: object"
      ]
     },
     "execution_count": 59,
     "metadata": {},
     "output_type": "execute_result"
    }
   ],
   "source": [
    "raw_df.dtypes"
   ]
  },
  {
   "cell_type": "code",
   "execution_count": 97,
   "metadata": {
    "collapsed": false
   },
   "outputs": [
    {
     "data": {
      "image/png": "[encoded data removed]",
      "text/plain": [
       "<matplotlib.figure.Figure at 0x1416813d0>"
      ]
     },
     "metadata": {},
     "output_type": "display_data"
    },
    {
     "data": {
      "image/png": "[encoded data removed]",
      "text/plain": [
       "<matplotlib.figure.Figure at 0x1417f0cd0>"
      ]
     },
     "metadata": {},
     "output_type": "display_data"
    },
    {
     "data": {
      "image/png": "[encoded data removed]",
      "text/plain": [
       "<matplotlib.figure.Figure at 0x1107cfdd0>"
      ]
     },
     "metadata": {},
     "output_type": "display_data"
    },
    {
     "data": {
      "image/png": "[encoded data removed]",
      "text/plain": [
       "<matplotlib.figure.Figure at 0x14240bfd0>"
      ]
     },
     "metadata": {},
     "output_type": "display_data"
    },
    {
     "data": {
      "image/png": "[encoded data removed]",
      "text/plain": [
       "<matplotlib.figure.Figure at 0x141c7fa50>"
      ]
     },
     "metadata": {},
     "output_type": "display_data"
    },
    {
     "data": {
      "image/png": "[encoded data removed]",
      "text/plain": [
       "<matplotlib.figure.Figure at 0x1423b2210>"
      ]
     },
     "metadata": {},
     "output_type": "display_data"
    },
    {
     "data": {
      "image/png": "[encoded data removed]",
      "text/plain": [
       "<matplotlib.figure.Figure at 0x112cbd890>"
      ]
     },
     "metadata": {},
     "output_type": "display_data"
    },
    {
     "data": {
      "image/png": "[encoded data removed]",
      "text/plain": [
       "<matplotlib.figure.Figure at 0x1108a3190>"
      ]
     },
     "metadata": {},
     "output_type": "display_data"
    },
    {
     "ename": "ValueError",
     "evalue": "max must be larger than min in range parameter.",
     "output_type": "error",
     "traceback": [
      "\u001b[0;31m---------------------------------------------------------------------------\u001b[0m",
      "\u001b[0;31mValueError\u001b[0m                                Traceback (most recent call last)",
      "\u001b[0;32m<ipython-input-97-72aa8ae53a4a>\u001b[0m in \u001b[0;36m<module>\u001b[0;34m()\u001b[0m\n\u001b[1;32m     24\u001b[0m                 \u001b[0malpha\u001b[0m\u001b[0;34m=\u001b[0m\u001b[0;36m0.7\u001b[0m\u001b[0;34m,\u001b[0m\u001b[0;34m\u001b[0m\u001b[0m\n\u001b[1;32m     25\u001b[0m                 \u001b[0mcolor\u001b[0m\u001b[0;34m=\u001b[0m\u001b[0;34m\"gray\"\u001b[0m\u001b[0;34m,\u001b[0m\u001b[0;34m\u001b[0m\u001b[0m\n\u001b[0;32m---> 26\u001b[0;31m                 label=\"Podcast\")\n\u001b[0m\u001b[1;32m     27\u001b[0m         ax.hist(raw_df[raw_df[\"target\"]==0][col],\n\u001b[1;32m     28\u001b[0m                 \u001b[0mbins\u001b[0m\u001b[0;34m=\u001b[0m\u001b[0;36m1\u001b[0m\u001b[0;34m,\u001b[0m\u001b[0;34m\u001b[0m\u001b[0m\n",
      "\u001b[0;32m/anaconda/lib/python2.7/site-packages/matplotlib/__init__.pyc\u001b[0m in \u001b[0;36minner\u001b[0;34m(ax, *args, **kwargs)\u001b[0m\n\u001b[1;32m   1890\u001b[0m                     warnings.warn(msg % (label_namer, func.__name__),\n\u001b[1;32m   1891\u001b[0m                                   RuntimeWarning, stacklevel=2)\n\u001b[0;32m-> 1892\u001b[0;31m             \u001b[0;32mreturn\u001b[0m \u001b[0mfunc\u001b[0m\u001b[0;34m(\u001b[0m\u001b[0max\u001b[0m\u001b[0;34m,\u001b[0m \u001b[0;34m*\u001b[0m\u001b[0margs\u001b[0m\u001b[0;34m,\u001b[0m \u001b[0;34m**\u001b[0m\u001b[0mkwargs\u001b[0m\u001b[0;34m)\u001b[0m\u001b[0;34m\u001b[0m\u001b[0m\n\u001b[0m\u001b[1;32m   1893\u001b[0m         \u001b[0mpre_doc\u001b[0m \u001b[0;34m=\u001b[0m \u001b[0minner\u001b[0m\u001b[0;34m.\u001b[0m\u001b[0m__doc__\u001b[0m\u001b[0;34m\u001b[0m\u001b[0m\n\u001b[1;32m   1894\u001b[0m         \u001b[0;32mif\u001b[0m \u001b[0mpre_doc\u001b[0m \u001b[0;32mis\u001b[0m \u001b[0mNone\u001b[0m\u001b[0;34m:\u001b[0m\u001b[0;34m\u001b[0m\u001b[0m\n",
      "\u001b[0;32m/anaconda/lib/python2.7/site-packages/matplotlib/axes/_axes.pyc\u001b[0m in \u001b[0;36mhist\u001b[0;34m(self, x, bins, range, normed, weights, cumulative, bottom, histtype, align, orientation, rwidth, log, color, label, stacked, **kwargs)\u001b[0m\n\u001b[1;32m   6190\u001b[0m             \u001b[0;31m# this will automatically overwrite bins,\u001b[0m\u001b[0;34m\u001b[0m\u001b[0;34m\u001b[0m\u001b[0m\n\u001b[1;32m   6191\u001b[0m             \u001b[0;31m# so that each histogram uses the same bins\u001b[0m\u001b[0;34m\u001b[0m\u001b[0;34m\u001b[0m\u001b[0m\n\u001b[0;32m-> 6192\u001b[0;31m             \u001b[0mm\u001b[0m\u001b[0;34m,\u001b[0m \u001b[0mbins\u001b[0m \u001b[0;34m=\u001b[0m \u001b[0mnp\u001b[0m\u001b[0;34m.\u001b[0m\u001b[0mhistogram\u001b[0m\u001b[0;34m(\u001b[0m\u001b[0mx\u001b[0m\u001b[0;34m[\u001b[0m\u001b[0mi\u001b[0m\u001b[0;34m]\u001b[0m\u001b[0;34m,\u001b[0m \u001b[0mbins\u001b[0m\u001b[0;34m,\u001b[0m \u001b[0mweights\u001b[0m\u001b[0;34m=\u001b[0m\u001b[0mw\u001b[0m\u001b[0;34m[\u001b[0m\u001b[0mi\u001b[0m\u001b[0;34m]\u001b[0m\u001b[0;34m,\u001b[0m \u001b[0;34m**\u001b[0m\u001b[0mhist_kwargs\u001b[0m\u001b[0;34m)\u001b[0m\u001b[0;34m\u001b[0m\u001b[0m\n\u001b[0m\u001b[1;32m   6193\u001b[0m             \u001b[0mm\u001b[0m \u001b[0;34m=\u001b[0m \u001b[0mm\u001b[0m\u001b[0;34m.\u001b[0m\u001b[0mastype\u001b[0m\u001b[0;34m(\u001b[0m\u001b[0mfloat\u001b[0m\u001b[0;34m)\u001b[0m  \u001b[0;31m# causes problems later if it's an int\u001b[0m\u001b[0;34m\u001b[0m\u001b[0m\n\u001b[1;32m   6194\u001b[0m             \u001b[0;32mif\u001b[0m \u001b[0mmlast\u001b[0m \u001b[0;32mis\u001b[0m \u001b[0mNone\u001b[0m\u001b[0;34m:\u001b[0m\u001b[0;34m\u001b[0m\u001b[0m\n",
      "\u001b[0;32m/anaconda/lib/python2.7/site-packages/numpy/lib/function_base.pyc\u001b[0m in \u001b[0;36mhistogram\u001b[0;34m(a, bins, range, normed, weights, density)\u001b[0m\n\u001b[1;32m    500\u001b[0m     \u001b[0;32mif\u001b[0m \u001b[0mmn\u001b[0m \u001b[0;34m>\u001b[0m \u001b[0mmx\u001b[0m\u001b[0;34m:\u001b[0m\u001b[0;34m\u001b[0m\u001b[0m\n\u001b[1;32m    501\u001b[0m         raise ValueError(\n\u001b[0;32m--> 502\u001b[0;31m             'max must be larger than min in range parameter.')\n\u001b[0m\u001b[1;32m    503\u001b[0m     \u001b[0;32mif\u001b[0m \u001b[0;32mnot\u001b[0m \u001b[0mnp\u001b[0m\u001b[0;34m.\u001b[0m\u001b[0mall\u001b[0m\u001b[0;34m(\u001b[0m\u001b[0mnp\u001b[0m\u001b[0;34m.\u001b[0m\u001b[0misfinite\u001b[0m\u001b[0;34m(\u001b[0m\u001b[0;34m[\u001b[0m\u001b[0mmn\u001b[0m\u001b[0;34m,\u001b[0m \u001b[0mmx\u001b[0m\u001b[0;34m]\u001b[0m\u001b[0;34m)\u001b[0m\u001b[0;34m)\u001b[0m\u001b[0;34m:\u001b[0m\u001b[0;34m\u001b[0m\u001b[0m\n\u001b[1;32m    504\u001b[0m         raise ValueError(\n",
      "\u001b[0;31mValueError\u001b[0m: max must be larger than min in range parameter."
     ]
    },
    {
     "data": {
      "image/png": "[encoded data removed]",
      "text/plain": [
       "<matplotlib.figure.Figure at 0x1108c2f50>"
      ]
     },
     "metadata": {},
     "output_type": "display_data"
    }
   ],
   "source": [
    "for col in (raw_df.drop(['anon_person_id','target'],axis=1)).columns:\n",
    "    if raw_df[col].dtype == 'object':\n",
    "        # Plotting for categorical variables\n",
    "        fig, ax = plt.subplots()\n",
    "\n",
    "        sns.factorplot(col, hue=\"target\", data=raw_df, kind=\"count\", \n",
    "                    palette={1:\"black\", 0:\"red\"}, ax=ax)\n",
    "        ax.set_xlabel(col)\n",
    "\n",
    "        color_patches = [\n",
    "            Patch(facecolor=\"black\", label=\"Podcast\"),\n",
    "            Patch(facecolor=\"red\", label=\"No Podcast\")\n",
    "        ]\n",
    "        ax.legend(handles=color_patches)\n",
    "\n",
    "        fig.suptitle(col + \" vs. Podcast Activity for Subscribers\")\n",
    "        plt.close(2)\n",
    "        plt.show()\n",
    "    else:\n",
    "        fig, ax = plt.subplots()\n",
    "\n",
    "        ax.hist(raw_df[raw_df[\"target\"]==1][col],\n",
    "                bins=3, \n",
    "                alpha=0.7, \n",
    "                color=\"gray\", \n",
    "                label=\"Podcast\")\n",
    "        ax.hist(raw_df[raw_df[\"target\"]==0][col],\n",
    "                bins=1,\n",
    "                alpha=0.5,\n",
    "                color=\"red\",\n",
    "                label=\"No Podcast\")\n",
    "\n",
    "        ax.set_xlabel(col)\n",
    "        ax.set_ylabel(\"Count of Users\")\n",
    "\n",
    "        fig.suptitle(col + \" vs. Podcast Activity for Subscribers\")\n",
    "\n",
    "        ax.legend()\n",
    "        plt.close(2)\n",
    "        plt.show()"
   ]
  },
  {
   "cell_type": "markdown",
   "metadata": {},
   "source": [
    "### High Level Summary of the Data\n",
    "- 1M records with 999500 unique records for 999500 unique users.\n",
    "- Most fields have full coverage, but the user age and user state are missing values (~2% and ~1% respectively)\n",
    "- 3 Unique Values for States: California, Georgia, and Washington, DC\n",
    "- Assuming the \"U\" and \"S\" values for the Marital Status field both indicate unmarried status"
   ]
  },
  {
   "cell_type": "code",
   "execution_count": 68,
   "metadata": {
    "collapsed": false
   },
   "outputs": [],
   "source": [
    "# Cleaning up marital status field, assigning 'U' value to 'S'\n",
    "raw_df['marital_status'] = np.where(raw_df['marital_status']=='U',\n",
    "                                    'S',\n",
    "                                    raw_df['marital_status'] )"
   ]
  },
  {
   "cell_type": "code",
   "execution_count": 71,
   "metadata": {
    "collapsed": false
   },
   "outputs": [],
   "source": [
    "# Cleaning up gender field, assigning 'feMalee' value to 'Female'\n",
    "raw_df['gender'] = np.where(raw_df['gender']=='feMalee',\n",
    "                                    'Female',\n",
    "                                    raw_df['gender'] )"
   ]
  },
  {
   "cell_type": "code",
   "execution_count": 76,
   "metadata": {
    "collapsed": false
   },
   "outputs": [
    {
     "data": {
      "text/html": [
       "<div>\n",
       "<table border=\"1\" class=\"dataframe\">\n",
       "  <thead>\n",
       "    <tr style=\"text-align: right;\">\n",
       "      <th></th>\n",
       "      <th>anon_person_id</th>\n",
       "      <th>target</th>\n",
       "      <th>state</th>\n",
       "      <th>presence_of_child_ind</th>\n",
       "      <th>streaming_media_subs</th>\n",
       "      <th>streaming_entertainment_subs</th>\n",
       "      <th>marital_status</th>\n",
       "      <th>gender</th>\n",
       "      <th>income</th>\n",
       "      <th>number_of_news_subs</th>\n",
       "      <th>age</th>\n",
       "    </tr>\n",
       "  </thead>\n",
       "  <tbody>\n",
       "    <tr>\n",
       "      <th>0</th>\n",
       "      <td>1</td>\n",
       "      <td>0</td>\n",
       "      <td>CA</td>\n",
       "      <td>0</td>\n",
       "      <td>0</td>\n",
       "      <td>0</td>\n",
       "      <td>M</td>\n",
       "      <td>Female</td>\n",
       "      <td>$175k-199k</td>\n",
       "      <td>0</td>\n",
       "      <td>43.0</td>\n",
       "    </tr>\n",
       "    <tr>\n",
       "      <th>1</th>\n",
       "      <td>2</td>\n",
       "      <td>0</td>\n",
       "      <td>CA</td>\n",
       "      <td>0</td>\n",
       "      <td>0</td>\n",
       "      <td>0</td>\n",
       "      <td>S</td>\n",
       "      <td>Male</td>\n",
       "      <td>$225k-249k</td>\n",
       "      <td>0</td>\n",
       "      <td>90.0</td>\n",
       "    </tr>\n",
       "    <tr>\n",
       "      <th>2</th>\n",
       "      <td>3</td>\n",
       "      <td>1</td>\n",
       "      <td>CA</td>\n",
       "      <td>0</td>\n",
       "      <td>1</td>\n",
       "      <td>1</td>\n",
       "      <td>S</td>\n",
       "      <td>Female</td>\n",
       "      <td>$150k-174k</td>\n",
       "      <td>0</td>\n",
       "      <td>46.0</td>\n",
       "    </tr>\n",
       "    <tr>\n",
       "      <th>3</th>\n",
       "      <td>4</td>\n",
       "      <td>0</td>\n",
       "      <td>CA</td>\n",
       "      <td>1</td>\n",
       "      <td>0</td>\n",
       "      <td>0</td>\n",
       "      <td>S</td>\n",
       "      <td>Female</td>\n",
       "      <td>$125k-149k</td>\n",
       "      <td>0</td>\n",
       "      <td>25.0</td>\n",
       "    </tr>\n",
       "    <tr>\n",
       "      <th>4</th>\n",
       "      <td>5</td>\n",
       "      <td>0</td>\n",
       "      <td>CA</td>\n",
       "      <td>0</td>\n",
       "      <td>0</td>\n",
       "      <td>0</td>\n",
       "      <td>S</td>\n",
       "      <td>Female</td>\n",
       "      <td>$175k-199k</td>\n",
       "      <td>0</td>\n",
       "      <td>62.0</td>\n",
       "    </tr>\n",
       "  </tbody>\n",
       "</table>\n",
       "</div>"
      ],
      "text/plain": [
       "   anon_person_id  target state presence_of_child_ind streaming_media_subs  \\\n",
       "0               1       0    CA                     0                    0   \n",
       "1               2       0    CA                     0                    0   \n",
       "2               3       1    CA                     0                    1   \n",
       "3               4       0    CA                     1                    0   \n",
       "4               5       0    CA                     0                    0   \n",
       "\n",
       "  streaming_entertainment_subs marital_status  gender      income  \\\n",
       "0                            0              M  Female  $175k-199k   \n",
       "1                            0              S    Male  $225k-249k   \n",
       "2                            1              S  Female  $150k-174k   \n",
       "3                            0              S  Female  $125k-149k   \n",
       "4                            0              S  Female  $175k-199k   \n",
       "\n",
       "   number_of_news_subs   age  \n",
       "0                    0  43.0  \n",
       "1                    0  90.0  \n",
       "2                    0  46.0  \n",
       "3                    0  25.0  \n",
       "4                    0  62.0  "
      ]
     },
     "execution_count": 76,
     "metadata": {},
     "output_type": "execute_result"
    }
   ],
   "source": [
    "raw_df.head()"
   ]
  },
  {
   "cell_type": "markdown",
   "metadata": {},
   "source": [
    "-----\n",
    "We want to prepare the non-binary categorial features (State, marital_status, gender and income) for measuring correlation with respect to the target variable."
   ]
  },
  {
   "cell_type": "code",
   "execution_count": 89,
   "metadata": {
    "collapsed": false
   },
   "outputs": [
    {
     "name": "stdout",
     "output_type": "stream",
     "text": [
      "Getting dummies for state\n",
      "Getting dummies for marital_status\n",
      "Getting dummies for gender\n",
      "Getting dummies for income\n"
     ]
    }
   ],
   "source": [
    "# One-hot encoding state\n",
    "prep_df = raw_df.copy()\n",
    "for col  in ['state','marital_status','gender','income']:\n",
    "    print(\"Getting dummies for \" +col)\n",
    "    dummies = pd.get_dummies(prep_df[col], prefix=col)\n",
    "    prep_df = prep_df.join(dummies)\n",
    "\n",
    "# Dropping the columns we no longer need\n",
    "prep_df.drop(['state','marital_status','gender','income'],axis=1, inplace=True)"
   ]
  },
  {
   "cell_type": "code",
   "execution_count": 84,
   "metadata": {
    "collapsed": false
   },
   "outputs": [],
   "source": [
    "# One-hot encoding marital status\n",
    "ms_dummies = pd.get_dummies(prep_df.marital_status, prefix='state')\n",
    "prep_df = prep_df.join(ms_dummies)"
   ]
  },
  {
   "cell_type": "code",
   "execution_count": 96,
   "metadata": {
    "collapsed": false
   },
   "outputs": [
    {
     "data": {
      "text/plain": [
       "<matplotlib.axes._subplots.AxesSubplot at 0x1414f3bd0>"
      ]
     },
     "execution_count": 96,
     "metadata": {},
     "output_type": "execute_result"
    },
    {
     "data": {
      "image/png": "[encoded data removed]",
      "text/plain": [
       "<matplotlib.figure.Figure at 0x113cfa410>"
      ]
     },
     "metadata": {},
     "output_type": "display_data"
    }
   ],
   "source": [
    "# looking at the correlation of variables.\n",
    "# What I'm looking for here is first, which variables have correlation with the target variables\n",
    "# and second, if any of the variables are strongly correlated with each other, making using both\n",
    "# variables redundant.\n",
    "plt.figure(figsize=(16, 6))\n",
    "sns.heatmap((prep_df.drop(['anon_person_id'],axis=1)).corr())"
   ]
  },
  {
   "cell_type": "markdown",
   "metadata": {},
   "source": [
    "### Correlation Summary\n",
    "- The number of news subscriptions demonstrates the strongest correlation with the target\n",
    "- Gender and several of the income \"buckets\" also demonstrate some correlation with the target\n",
    "- State and Age seem to have very little or no correlation with the target\n",
    "\n",
    "----\n",
    "# Training the Model\n",
    "I will explore a logistic regression approach, using recurvise feature elimination to select the features for the model.\n",
    "\n",
    "Model Evaluation Metrics will include\n",
    "- Accuracy: Count of incorrect predictions/Count of Correct Predictions\n",
    "- Precision: tp / (tp + fp)\n",
    "- Recall: tp / (tp + fn) \n",
    "- F-Score: A weighted mean of the precision and recall"
   ]
  },
  {
   "cell_type": "code",
   "execution_count": 104,
   "metadata": {
    "collapsed": false
   },
   "outputs": [],
   "source": [
    "# First we have to split the data\n",
    "prep_df.set_index('anon_person_id',inplace=True)"
   ]
  },
  {
   "cell_type": "code",
   "execution_count": 134,
   "metadata": {
    "collapsed": true
   },
   "outputs": [],
   "source": [
    "from sklearn.model_selection import train_test_split\n",
    "from sklearn.linear_model import LogisticRegression\n",
    "from sklearn.feature_selection import RFE\n",
    "from sklearn.feature_selection import RFE\n",
    "from sklearn import metrics\n",
    "from sklearn.metrics import confusion_matrix"
   ]
  },
  {
   "cell_type": "code",
   "execution_count": 109,
   "metadata": {
    "collapsed": false
   },
   "outputs": [],
   "source": [
    "prep_df.dropna(inplace=True)"
   ]
  },
  {
   "cell_type": "code",
   "execution_count": 127,
   "metadata": {
    "collapsed": false
   },
   "outputs": [
    {
     "name": "stdout",
     "output_type": "stream",
     "text": [
      "[ True  True  True  True False False False False False False False  True\n",
      "  True  True  True  True False False False False False  True False False]\n",
      "[ 1  1  1  1 14  5 13  7  4  3  9  1  1  1  1  1  2  6 12 11  8  1 15 10]\n"
     ]
    }
   ],
   "source": [
    "# Trying to find which features are actually important wrt target\n",
    "# We look at different combinations of features, train a logit and then select the \n",
    "# set of features for the best performing model. note the \"best model\" here is just\n",
    "# exploratory\n",
    "fvars=prep_df.columns.values.tolist()\n",
    "y=['target']\n",
    "X=[i for i in fvars if i not in y]\n",
    "# Instiating the model\n",
    "logreg = LogisticRegression()\n",
    "rfe = RFE(logreg,\n",
    "          10 # This specifies to select 12 features, roughly half of the total features available\n",
    "         )\n",
    "rfe = rfe.fit(prep_df[X], prep_df[y].values.ravel())\n",
    "# Printing out which fields seem \n",
    "print(rfe.support_)\n",
    "print(rfe.ranking_)"
   ]
  },
  {
   "cell_type": "code",
   "execution_count": 161,
   "metadata": {
    "collapsed": false
   },
   "outputs": [],
   "source": [
    "good_feats = ['presence_of_child_ind',\n",
    "             'streaming_media_subs',\n",
    "             'streaming_entertainment_subs',\n",
    "             'number_of_news_subs',\n",
    "#              'marital_status_S',\n",
    "             'gender_Male',\n",
    "             'income_$100k-124k',\n",
    "             'income_$125k-149k',\n",
    "             'income_$150k-174k',\n",
    "             'income_$175k-199k',\n",
    "             'income_$75k-99k',\n",
    "              ]\n",
    "good_feats_X= prep_df[good_feats].copy()"
   ]
  },
  {
   "cell_type": "code",
   "execution_count": 162,
   "metadata": {
    "collapsed": false
   },
   "outputs": [],
   "source": [
    "good_feats_X['presence_of_child_ind'] = good_feats_X['presence_of_child_ind'].astype(int)\n",
    "good_feats_X['streaming_media_subs'] = good_feats_X['streaming_media_subs'].astype(int)\n",
    "good_feats_X['streaming_entertainment_subs'] = good_feats_X['streaming_entertainment_subs'].astype(int)"
   ]
  },
  {
   "cell_type": "code",
   "execution_count": 163,
   "metadata": {
    "collapsed": false
   },
   "outputs": [
    {
     "data": {
      "text/plain": [
       "<matplotlib.axes._subplots.AxesSubplot at 0x142d093d0>"
      ]
     },
     "execution_count": 163,
     "metadata": {},
     "output_type": "execute_result"
    },
    {
     "data": {
      "image/png": "[encoded data removed]",
      "text/plain": [
       "<matplotlib.figure.Figure at 0x141c08310>"
      ]
     },
     "metadata": {},
     "output_type": "display_data"
    }
   ],
   "source": [
    "# Looking at the correlation again to see if these features are all actually siginificant wrt to the target\n",
    "plt.figure(figsize=(16, 6))\n",
    "sns.heatmap((good_feats_X.join(prep_df[y])).corr())"
   ]
  },
  {
   "cell_type": "code",
   "execution_count": 164,
   "metadata": {
    "collapsed": false
   },
   "outputs": [
    {
     "data": {
      "text/plain": [
       "LogisticRegression(C=1.0, class_weight=None, dual=False, fit_intercept=True,\n",
       "          intercept_scaling=1, max_iter=100, multi_class='ovr', n_jobs=1,\n",
       "          penalty='l2', random_state=None, solver='liblinear', tol=0.0001,\n",
       "          verbose=0, warm_start=False)"
      ]
     },
     "execution_count": 164,
     "metadata": {},
     "output_type": "execute_result"
    }
   ],
   "source": [
    "# Splitting up the data into train and test sets\n",
    "X_train, X_test, y_train, y_test = train_test_split(good_feats_X\n",
    "                                                    , prep_df[y]\n",
    "                                                    , test_size=0.3\n",
    "                                                    , random_state=0)\n",
    "# Training the model\n",
    "logreg = LogisticRegression()\n",
    "logreg.fit(X_train, y_train)"
   ]
  },
  {
   "cell_type": "code",
   "execution_count": 165,
   "metadata": {
    "collapsed": false
   },
   "outputs": [
    {
     "name": "stdout",
     "output_type": "stream",
     "text": [
      "Accuracy of logistic regression classifier on test set: 0.94\n"
     ]
    }
   ],
   "source": [
    "# Getting predictions for the test set\n",
    "y_pred = logreg.predict(X_test)\n",
    "print('Accuracy of logistic regression classifier on test set: {:.2f}'.format(logreg.score(X_test, y_test)))"
   ]
  },
  {
   "cell_type": "code",
   "execution_count": 189,
   "metadata": {
    "collapsed": false
   },
   "outputs": [],
   "source": [
    "# Getting the probability of memebership to target=1 class or target=0 class\n",
    "X_test_probs = logreg.predict_proba(X_test)"
   ]
  },
  {
   "cell_type": "code",
   "execution_count": 166,
   "metadata": {
    "collapsed": false
   },
   "outputs": [
    {
     "name": "stdout",
     "output_type": "stream",
     "text": [
      "[[246439   3478]\n",
      " [ 13425  30628]]\n"
     ]
    }
   ],
   "source": [
    "# Getting the confusion matrix to see our breakdown of tps, fps, tns, and fns\n",
    "confusion_matrix = confusion_matrix(y_test, y_pred)\n",
    "print(confusion_matrix)"
   ]
  },
  {
   "cell_type": "code",
   "execution_count": 173,
   "metadata": {
    "collapsed": false
   },
   "outputs": [
    {
     "name": "stdout",
     "output_type": "stream",
     "text": [
      "             precision    recall  f1-score   support\n",
      "\n",
      "          0       0.95      0.99      0.97    249917\n",
      "          1       0.90      0.70      0.78     44053\n",
      "\n",
      "avg / total       0.94      0.94      0.94    293970\n",
      "\n"
     ]
    }
   ],
   "source": [
    "from sklearn.metrics import classification_report\n",
    "# Leveraging sklearn's built in model metrics\n",
    "print(classification_report(y_test, y_pred))"
   ]
  },
  {
   "cell_type": "code",
   "execution_count": 174,
   "metadata": {
    "collapsed": false
   },
   "outputs": [
    {
     "data": {
      "image/png": "[encoded data removed]",
      "text/plain": [
       "<matplotlib.figure.Figure at 0x142d30dd0>"
      ]
     },
     "metadata": {},
     "output_type": "display_data"
    }
   ],
   "source": [
    "# looking at the ROC curve for good measure\n",
    "from sklearn.metrics import roc_auc_score\n",
    "from sklearn.metrics import roc_curve\n",
    "logit_roc_auc = roc_auc_score(y_test, logreg.predict(X_test))\n",
    "fpr, tpr, thresholds = roc_curve(y_test, logreg.predict_proba(X_test)[:,1])\n",
    "plt.figure()\n",
    "plt.plot(fpr, tpr, label='Logistic Regression (area = %0.2f)' % logit_roc_auc)\n",
    "plt.plot([0, 1], [0, 1],'r--')\n",
    "plt.xlim([0.0, 1.0])\n",
    "plt.ylim([0.0, 1.05])\n",
    "plt.xlabel('False Positive Rate')\n",
    "plt.ylabel('True Positive Rate')\n",
    "plt.title('Receiver operating characteristic')\n",
    "plt.legend(loc=\"lower right\")\n",
    "plt.savefig('Log_ROC')\n",
    "plt.show()"
   ]
  },
  {
   "cell_type": "markdown",
   "metadata": {},
   "source": [
    "Hooray! Looks decent, certainly better than random :-)"
   ]
  },
  {
   "cell_type": "code",
   "execution_count": 192,
   "metadata": {
    "collapsed": false
   },
   "outputs": [
    {
     "data": {
      "text/plain": [
       "array([0, 1])"
      ]
     },
     "execution_count": 192,
     "metadata": {},
     "output_type": "execute_result"
    }
   ],
   "source": [
    "logreg.classes_"
   ]
  },
  {
   "cell_type": "code",
   "execution_count": 193,
   "metadata": {
    "collapsed": true
   },
   "outputs": [],
   "source": [
    "X_test_probs_1 = [x[1] for x in X_test_probs]"
   ]
  },
  {
   "cell_type": "code",
   "execution_count": 195,
   "metadata": {
    "collapsed": false,
    "scrolled": false
   },
   "outputs": [],
   "source": [
    "# Prepping the final files\n",
    "final_preds_test = pd.DataFrame({'anon_person_id':X_test.index,\n",
    "              'target':y_test.target,\n",
    "              'prediction':y_pred,\n",
    "              'probability':X_test_probs_1\n",
    "             })"
   ]
  },
  {
   "cell_type": "code",
   "execution_count": 197,
   "metadata": {
    "collapsed": false
   },
   "outputs": [],
   "source": [
    "final_preds_test = final_preds_test[['anon_person_id','target','prediction','probability']].copy()"
   ]
  },
  {
   "cell_type": "code",
   "execution_count": 201,
   "metadata": {
    "collapsed": false
   },
   "outputs": [
    {
     "data": {
      "text/html": [
       "<div>\n",
       "<table border=\"1\" class=\"dataframe\">\n",
       "  <thead>\n",
       "    <tr style=\"text-align: right;\">\n",
       "      <th></th>\n",
       "      <th>anon_person_id</th>\n",
       "      <th>target</th>\n",
       "      <th>prediction</th>\n",
       "      <th>probability</th>\n",
       "    </tr>\n",
       "    <tr>\n",
       "      <th>anon_person_id</th>\n",
       "      <th></th>\n",
       "      <th></th>\n",
       "      <th></th>\n",
       "      <th></th>\n",
       "    </tr>\n",
       "  </thead>\n",
       "  <tbody>\n",
       "    <tr>\n",
       "      <th>524981</th>\n",
       "      <td>524981</td>\n",
       "      <td>0</td>\n",
       "      <td>0</td>\n",
       "      <td>0.034306</td>\n",
       "    </tr>\n",
       "    <tr>\n",
       "      <th>691694</th>\n",
       "      <td>691694</td>\n",
       "      <td>0</td>\n",
       "      <td>0</td>\n",
       "      <td>0.172769</td>\n",
       "    </tr>\n",
       "    <tr>\n",
       "      <th>794924</th>\n",
       "      <td>794924</td>\n",
       "      <td>0</td>\n",
       "      <td>0</td>\n",
       "      <td>0.004940</td>\n",
       "    </tr>\n",
       "    <tr>\n",
       "      <th>509087</th>\n",
       "      <td>509087</td>\n",
       "      <td>0</td>\n",
       "      <td>0</td>\n",
       "      <td>0.115471</td>\n",
       "    </tr>\n",
       "    <tr>\n",
       "      <th>414348</th>\n",
       "      <td>414348</td>\n",
       "      <td>1</td>\n",
       "      <td>1</td>\n",
       "      <td>0.629249</td>\n",
       "    </tr>\n",
       "    <tr>\n",
       "      <th>458931</th>\n",
       "      <td>458931</td>\n",
       "      <td>0</td>\n",
       "      <td>0</td>\n",
       "      <td>0.115471</td>\n",
       "    </tr>\n",
       "    <tr>\n",
       "      <th>348321</th>\n",
       "      <td>348321</td>\n",
       "      <td>0</td>\n",
       "      <td>0</td>\n",
       "      <td>0.004940</td>\n",
       "    </tr>\n",
       "    <tr>\n",
       "      <th>685481</th>\n",
       "      <td>685481</td>\n",
       "      <td>0</td>\n",
       "      <td>0</td>\n",
       "      <td>0.028359</td>\n",
       "    </tr>\n",
       "    <tr>\n",
       "      <th>987263</th>\n",
       "      <td>987263</td>\n",
       "      <td>0</td>\n",
       "      <td>0</td>\n",
       "      <td>0.115471</td>\n",
       "    </tr>\n",
       "    <tr>\n",
       "      <th>404314</th>\n",
       "      <td>404314</td>\n",
       "      <td>0</td>\n",
       "      <td>0</td>\n",
       "      <td>0.172769</td>\n",
       "    </tr>\n",
       "    <tr>\n",
       "      <th>831070</th>\n",
       "      <td>831070</td>\n",
       "      <td>0</td>\n",
       "      <td>0</td>\n",
       "      <td>0.004940</td>\n",
       "    </tr>\n",
       "    <tr>\n",
       "      <th>639788</th>\n",
       "      <td>639788</td>\n",
       "      <td>0</td>\n",
       "      <td>0</td>\n",
       "      <td>0.045993</td>\n",
       "    </tr>\n",
       "    <tr>\n",
       "      <th>712394</th>\n",
       "      <td>712394</td>\n",
       "      <td>0</td>\n",
       "      <td>0</td>\n",
       "      <td>0.115471</td>\n",
       "    </tr>\n",
       "    <tr>\n",
       "      <th>924895</th>\n",
       "      <td>924895</td>\n",
       "      <td>0</td>\n",
       "      <td>0</td>\n",
       "      <td>0.004940</td>\n",
       "    </tr>\n",
       "    <tr>\n",
       "      <th>945671</th>\n",
       "      <td>945671</td>\n",
       "      <td>0</td>\n",
       "      <td>0</td>\n",
       "      <td>0.004940</td>\n",
       "    </tr>\n",
       "    <tr>\n",
       "      <th>907210</th>\n",
       "      <td>907210</td>\n",
       "      <td>0</td>\n",
       "      <td>0</td>\n",
       "      <td>0.034306</td>\n",
       "    </tr>\n",
       "    <tr>\n",
       "      <th>212327</th>\n",
       "      <td>212327</td>\n",
       "      <td>0</td>\n",
       "      <td>0</td>\n",
       "      <td>0.017917</td>\n",
       "    </tr>\n",
       "    <tr>\n",
       "      <th>780174</th>\n",
       "      <td>780174</td>\n",
       "      <td>0</td>\n",
       "      <td>0</td>\n",
       "      <td>0.004940</td>\n",
       "    </tr>\n",
       "    <tr>\n",
       "      <th>928235</th>\n",
       "      <td>928235</td>\n",
       "      <td>0</td>\n",
       "      <td>0</td>\n",
       "      <td>0.028359</td>\n",
       "    </tr>\n",
       "    <tr>\n",
       "      <th>693379</th>\n",
       "      <td>693379</td>\n",
       "      <td>0</td>\n",
       "      <td>0</td>\n",
       "      <td>0.034306</td>\n",
       "    </tr>\n",
       "    <tr>\n",
       "      <th>72937</th>\n",
       "      <td>72937</td>\n",
       "      <td>0</td>\n",
       "      <td>0</td>\n",
       "      <td>0.006692</td>\n",
       "    </tr>\n",
       "    <tr>\n",
       "      <th>297257</th>\n",
       "      <td>297257</td>\n",
       "      <td>0</td>\n",
       "      <td>0</td>\n",
       "      <td>0.004940</td>\n",
       "    </tr>\n",
       "    <tr>\n",
       "      <th>388767</th>\n",
       "      <td>388767</td>\n",
       "      <td>0</td>\n",
       "      <td>0</td>\n",
       "      <td>0.004940</td>\n",
       "    </tr>\n",
       "    <tr>\n",
       "      <th>133001</th>\n",
       "      <td>133001</td>\n",
       "      <td>0</td>\n",
       "      <td>0</td>\n",
       "      <td>0.017917</td>\n",
       "    </tr>\n",
       "    <tr>\n",
       "      <th>947149</th>\n",
       "      <td>947149</td>\n",
       "      <td>0</td>\n",
       "      <td>0</td>\n",
       "      <td>0.017917</td>\n",
       "    </tr>\n",
       "    <tr>\n",
       "      <th>979813</th>\n",
       "      <td>979813</td>\n",
       "      <td>0</td>\n",
       "      <td>0</td>\n",
       "      <td>0.004940</td>\n",
       "    </tr>\n",
       "    <tr>\n",
       "      <th>484860</th>\n",
       "      <td>484860</td>\n",
       "      <td>0</td>\n",
       "      <td>0</td>\n",
       "      <td>0.004940</td>\n",
       "    </tr>\n",
       "    <tr>\n",
       "      <th>998787</th>\n",
       "      <td>998787</td>\n",
       "      <td>0</td>\n",
       "      <td>0</td>\n",
       "      <td>0.004940</td>\n",
       "    </tr>\n",
       "    <tr>\n",
       "      <th>816411</th>\n",
       "      <td>816411</td>\n",
       "      <td>1</td>\n",
       "      <td>1</td>\n",
       "      <td>1.000000</td>\n",
       "    </tr>\n",
       "    <tr>\n",
       "      <th>455601</th>\n",
       "      <td>455601</td>\n",
       "      <td>0</td>\n",
       "      <td>0</td>\n",
       "      <td>0.004940</td>\n",
       "    </tr>\n",
       "    <tr>\n",
       "      <th>...</th>\n",
       "      <td>...</td>\n",
       "      <td>...</td>\n",
       "      <td>...</td>\n",
       "      <td>...</td>\n",
       "    </tr>\n",
       "    <tr>\n",
       "      <th>38183</th>\n",
       "      <td>38183</td>\n",
       "      <td>0</td>\n",
       "      <td>0</td>\n",
       "      <td>0.028359</td>\n",
       "    </tr>\n",
       "    <tr>\n",
       "      <th>429673</th>\n",
       "      <td>429673</td>\n",
       "      <td>0</td>\n",
       "      <td>0</td>\n",
       "      <td>0.115471</td>\n",
       "    </tr>\n",
       "    <tr>\n",
       "      <th>560054</th>\n",
       "      <td>560054</td>\n",
       "      <td>0</td>\n",
       "      <td>0</td>\n",
       "      <td>0.034306</td>\n",
       "    </tr>\n",
       "    <tr>\n",
       "      <th>293368</th>\n",
       "      <td>293368</td>\n",
       "      <td>0</td>\n",
       "      <td>0</td>\n",
       "      <td>0.034306</td>\n",
       "    </tr>\n",
       "    <tr>\n",
       "      <th>801779</th>\n",
       "      <td>801779</td>\n",
       "      <td>1</td>\n",
       "      <td>0</td>\n",
       "      <td>0.315938</td>\n",
       "    </tr>\n",
       "    <tr>\n",
       "      <th>814084</th>\n",
       "      <td>814084</td>\n",
       "      <td>0</td>\n",
       "      <td>0</td>\n",
       "      <td>0.004940</td>\n",
       "    </tr>\n",
       "    <tr>\n",
       "      <th>562090</th>\n",
       "      <td>562090</td>\n",
       "      <td>0</td>\n",
       "      <td>0</td>\n",
       "      <td>0.004940</td>\n",
       "    </tr>\n",
       "    <tr>\n",
       "      <th>399260</th>\n",
       "      <td>399260</td>\n",
       "      <td>0</td>\n",
       "      <td>0</td>\n",
       "      <td>0.004940</td>\n",
       "    </tr>\n",
       "    <tr>\n",
       "      <th>398107</th>\n",
       "      <td>398107</td>\n",
       "      <td>0</td>\n",
       "      <td>0</td>\n",
       "      <td>0.191714</td>\n",
       "    </tr>\n",
       "    <tr>\n",
       "      <th>999195</th>\n",
       "      <td>999195</td>\n",
       "      <td>0</td>\n",
       "      <td>0</td>\n",
       "      <td>0.004940</td>\n",
       "    </tr>\n",
       "    <tr>\n",
       "      <th>309259</th>\n",
       "      <td>309259</td>\n",
       "      <td>1</td>\n",
       "      <td>1</td>\n",
       "      <td>1.000000</td>\n",
       "    </tr>\n",
       "    <tr>\n",
       "      <th>26884</th>\n",
       "      <td>26884</td>\n",
       "      <td>0</td>\n",
       "      <td>0</td>\n",
       "      <td>0.004940</td>\n",
       "    </tr>\n",
       "    <tr>\n",
       "      <th>336476</th>\n",
       "      <td>336476</td>\n",
       "      <td>0</td>\n",
       "      <td>0</td>\n",
       "      <td>0.172769</td>\n",
       "    </tr>\n",
       "    <tr>\n",
       "      <th>97620</th>\n",
       "      <td>97620</td>\n",
       "      <td>0</td>\n",
       "      <td>0</td>\n",
       "      <td>0.004940</td>\n",
       "    </tr>\n",
       "    <tr>\n",
       "      <th>519676</th>\n",
       "      <td>519676</td>\n",
       "      <td>0</td>\n",
       "      <td>0</td>\n",
       "      <td>0.034306</td>\n",
       "    </tr>\n",
       "    <tr>\n",
       "      <th>179335</th>\n",
       "      <td>179335</td>\n",
       "      <td>0</td>\n",
       "      <td>0</td>\n",
       "      <td>0.034306</td>\n",
       "    </tr>\n",
       "    <tr>\n",
       "      <th>284746</th>\n",
       "      <td>284746</td>\n",
       "      <td>0</td>\n",
       "      <td>0</td>\n",
       "      <td>0.004940</td>\n",
       "    </tr>\n",
       "    <tr>\n",
       "      <th>364920</th>\n",
       "      <td>364920</td>\n",
       "      <td>0</td>\n",
       "      <td>0</td>\n",
       "      <td>0.034306</td>\n",
       "    </tr>\n",
       "    <tr>\n",
       "      <th>710952</th>\n",
       "      <td>710952</td>\n",
       "      <td>0</td>\n",
       "      <td>0</td>\n",
       "      <td>0.017917</td>\n",
       "    </tr>\n",
       "    <tr>\n",
       "      <th>113188</th>\n",
       "      <td>113188</td>\n",
       "      <td>1</td>\n",
       "      <td>1</td>\n",
       "      <td>0.730842</td>\n",
       "    </tr>\n",
       "    <tr>\n",
       "      <th>80146</th>\n",
       "      <td>80146</td>\n",
       "      <td>0</td>\n",
       "      <td>0</td>\n",
       "      <td>0.004940</td>\n",
       "    </tr>\n",
       "    <tr>\n",
       "      <th>169911</th>\n",
       "      <td>169911</td>\n",
       "      <td>1</td>\n",
       "      <td>0</td>\n",
       "      <td>0.017917</td>\n",
       "    </tr>\n",
       "    <tr>\n",
       "      <th>837306</th>\n",
       "      <td>837306</td>\n",
       "      <td>0</td>\n",
       "      <td>0</td>\n",
       "      <td>0.004940</td>\n",
       "    </tr>\n",
       "    <tr>\n",
       "      <th>592716</th>\n",
       "      <td>592716</td>\n",
       "      <td>0</td>\n",
       "      <td>0</td>\n",
       "      <td>0.122208</td>\n",
       "    </tr>\n",
       "    <tr>\n",
       "      <th>835356</th>\n",
       "      <td>835356</td>\n",
       "      <td>0</td>\n",
       "      <td>0</td>\n",
       "      <td>0.017917</td>\n",
       "    </tr>\n",
       "    <tr>\n",
       "      <th>418772</th>\n",
       "      <td>418772</td>\n",
       "      <td>0</td>\n",
       "      <td>0</td>\n",
       "      <td>0.017917</td>\n",
       "    </tr>\n",
       "    <tr>\n",
       "      <th>618249</th>\n",
       "      <td>618249</td>\n",
       "      <td>0</td>\n",
       "      <td>0</td>\n",
       "      <td>0.004940</td>\n",
       "    </tr>\n",
       "    <tr>\n",
       "      <th>727310</th>\n",
       "      <td>727310</td>\n",
       "      <td>0</td>\n",
       "      <td>0</td>\n",
       "      <td>0.034306</td>\n",
       "    </tr>\n",
       "    <tr>\n",
       "      <th>104525</th>\n",
       "      <td>104525</td>\n",
       "      <td>0</td>\n",
       "      <td>0</td>\n",
       "      <td>0.004940</td>\n",
       "    </tr>\n",
       "    <tr>\n",
       "      <th>652754</th>\n",
       "      <td>652754</td>\n",
       "      <td>0</td>\n",
       "      <td>0</td>\n",
       "      <td>0.086606</td>\n",
       "    </tr>\n",
       "  </tbody>\n",
       "</table>\n",
       "<p>293970 rows × 4 columns</p>\n",
       "</div>"
      ],
      "text/plain": [
       "                anon_person_id  target  prediction  probability\n",
       "anon_person_id                                                 \n",
       "524981                  524981       0           0     0.034306\n",
       "691694                  691694       0           0     0.172769\n",
       "794924                  794924       0           0     0.004940\n",
       "509087                  509087       0           0     0.115471\n",
       "414348                  414348       1           1     0.629249\n",
       "458931                  458931       0           0     0.115471\n",
       "348321                  348321       0           0     0.004940\n",
       "685481                  685481       0           0     0.028359\n",
       "987263                  987263       0           0     0.115471\n",
       "404314                  404314       0           0     0.172769\n",
       "831070                  831070       0           0     0.004940\n",
       "639788                  639788       0           0     0.045993\n",
       "712394                  712394       0           0     0.115471\n",
       "924895                  924895       0           0     0.004940\n",
       "945671                  945671       0           0     0.004940\n",
       "907210                  907210       0           0     0.034306\n",
       "212327                  212327       0           0     0.017917\n",
       "780174                  780174       0           0     0.004940\n",
       "928235                  928235       0           0     0.028359\n",
       "693379                  693379       0           0     0.034306\n",
       "72937                    72937       0           0     0.006692\n",
       "297257                  297257       0           0     0.004940\n",
       "388767                  388767       0           0     0.004940\n",
       "133001                  133001       0           0     0.017917\n",
       "947149                  947149       0           0     0.017917\n",
       "979813                  979813       0           0     0.004940\n",
       "484860                  484860       0           0     0.004940\n",
       "998787                  998787       0           0     0.004940\n",
       "816411                  816411       1           1     1.000000\n",
       "455601                  455601       0           0     0.004940\n",
       "...                        ...     ...         ...          ...\n",
       "38183                    38183       0           0     0.028359\n",
       "429673                  429673       0           0     0.115471\n",
       "560054                  560054       0           0     0.034306\n",
       "293368                  293368       0           0     0.034306\n",
       "801779                  801779       1           0     0.315938\n",
       "814084                  814084       0           0     0.004940\n",
       "562090                  562090       0           0     0.004940\n",
       "399260                  399260       0           0     0.004940\n",
       "398107                  398107       0           0     0.191714\n",
       "999195                  999195       0           0     0.004940\n",
       "309259                  309259       1           1     1.000000\n",
       "26884                    26884       0           0     0.004940\n",
       "336476                  336476       0           0     0.172769\n",
       "97620                    97620       0           0     0.004940\n",
       "519676                  519676       0           0     0.034306\n",
       "179335                  179335       0           0     0.034306\n",
       "284746                  284746       0           0     0.004940\n",
       "364920                  364920       0           0     0.034306\n",
       "710952                  710952       0           0     0.017917\n",
       "113188                  113188       1           1     0.730842\n",
       "80146                    80146       0           0     0.004940\n",
       "169911                  169911       1           0     0.017917\n",
       "837306                  837306       0           0     0.004940\n",
       "592716                  592716       0           0     0.122208\n",
       "835356                  835356       0           0     0.017917\n",
       "418772                  418772       0           0     0.017917\n",
       "618249                  618249       0           0     0.004940\n",
       "727310                  727310       0           0     0.034306\n",
       "104525                  104525       0           0     0.004940\n",
       "652754                  652754       0           0     0.086606\n",
       "\n",
       "[293970 rows x 4 columns]"
      ]
     },
     "execution_count": 201,
     "metadata": {},
     "output_type": "execute_result"
    }
   ],
   "source": [
    "final_preds_test"
   ]
  },
  {
   "cell_type": "code",
   "execution_count": 205,
   "metadata": {
    "collapsed": false
   },
   "outputs": [],
   "source": [
    "# Writing to file\n",
    "final_preds_test.to_csv('../data/Scores.csv',header=None,index=False)"
   ]
  },
  {
   "cell_type": "code",
   "execution_count": null,
   "metadata": {
    "collapsed": true
   },
   "outputs": [],
   "source": []
  }
 ],
 "metadata": {
  "kernelspec": {
   "display_name": "Python 2",
   "language": "python",
   "name": "python2"
  },
  "language_info": {
   "codemirror_mode": {
    "name": "ipython",
    "version": 2
   },
   "file_extension": ".py",
   "mimetype": "text/x-python",
   "name": "python",
   "nbconvert_exporter": "python",
   "pygments_lexer": "ipython2",
   "version": "2.7.13"
  }
 },
 "nbformat": 4,
 "nbformat_minor": 2
}
