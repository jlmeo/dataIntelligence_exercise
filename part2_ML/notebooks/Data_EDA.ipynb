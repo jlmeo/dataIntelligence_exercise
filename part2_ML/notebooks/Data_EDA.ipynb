{
 "cells": [
  {
   "cell_type": "markdown",
   "metadata": {},
   "source": [
    "# Introduction\n",
    "\n",
    "The goal of this notebooks is to explore a given dataset of users who have installed our mobile app and their associated features and predict if a user will listen to podcasts."
   ]
  },
  {
   "cell_type": "code",
   "execution_count": 2,
   "metadata": {
    "collapsed": false
   },
   "outputs": [],
   "source": [
    "# Libraries\n",
    "# Standard libraries\n",
    "import pandas as pd\n",
    "import numpy as np\n",
    "\n",
    "# Statistics and modelings libraries\n",
    "import sklearn"
   ]
  },
  {
   "cell_type": "code",
   "execution_count": 5,
   "metadata": {
    "collapsed": true
   },
   "outputs": [],
   "source": [
    "# Inputs\n",
    "\n",
    "path_to_data = '/Users/juliameo/dataIntelligence_exercise/part2_ML/data/ds_practical.txt'"
   ]
  },
  {
   "cell_type": "markdown",
   "metadata": {},
   "source": [
    "## Reading in Data and Prepping"
   ]
  },
  {
   "cell_type": "code",
   "execution_count": 8,
   "metadata": {
    "collapsed": false
   },
   "outputs": [],
   "source": [
    "raw_df = pd.read_csv(path_to_data,\n",
    "                    sep='|')"
   ]
  },
  {
   "cell_type": "code",
   "execution_count": 15,
   "metadata": {
    "collapsed": false
   },
   "outputs": [
    {
     "data": {
      "text/html": [
       "<div>\n",
       "<table border=\"1\" class=\"dataframe\">\n",
       "  <thead>\n",
       "    <tr style=\"text-align: right;\">\n",
       "      <th></th>\n",
       "      <th>anon_person_id</th>\n",
       "      <th>target</th>\n",
       "      <th>state</th>\n",
       "      <th>presence_of_child_ind</th>\n",
       "      <th>streaming_media_subs</th>\n",
       "      <th>streaming_entertainment_subs</th>\n",
       "      <th>marital_status</th>\n",
       "      <th>gender</th>\n",
       "      <th>income</th>\n",
       "      <th>number_of_news_subs</th>\n",
       "      <th>age</th>\n",
       "    </tr>\n",
       "  </thead>\n",
       "  <tbody>\n",
       "    <tr>\n",
       "      <th>0</th>\n",
       "      <td>1</td>\n",
       "      <td>0</td>\n",
       "      <td>CA</td>\n",
       "      <td>0</td>\n",
       "      <td>N</td>\n",
       "      <td>0</td>\n",
       "      <td>M</td>\n",
       "      <td>Female</td>\n",
       "      <td>$175k-199k</td>\n",
       "      <td>0</td>\n",
       "      <td>43.0</td>\n",
       "    </tr>\n",
       "    <tr>\n",
       "      <th>1</th>\n",
       "      <td>2</td>\n",
       "      <td>0</td>\n",
       "      <td>CA</td>\n",
       "      <td>0</td>\n",
       "      <td>N</td>\n",
       "      <td>0</td>\n",
       "      <td>U</td>\n",
       "      <td>Male</td>\n",
       "      <td>$225k-249k</td>\n",
       "      <td>0</td>\n",
       "      <td>90.0</td>\n",
       "    </tr>\n",
       "    <tr>\n",
       "      <th>2</th>\n",
       "      <td>3</td>\n",
       "      <td>1</td>\n",
       "      <td>CA</td>\n",
       "      <td>0</td>\n",
       "      <td>Y</td>\n",
       "      <td>1</td>\n",
       "      <td>S</td>\n",
       "      <td>Female</td>\n",
       "      <td>$150k-174k</td>\n",
       "      <td>0</td>\n",
       "      <td>46.0</td>\n",
       "    </tr>\n",
       "    <tr>\n",
       "      <th>3</th>\n",
       "      <td>4</td>\n",
       "      <td>0</td>\n",
       "      <td>CA</td>\n",
       "      <td>1</td>\n",
       "      <td>N</td>\n",
       "      <td>0</td>\n",
       "      <td>U</td>\n",
       "      <td>Female</td>\n",
       "      <td>$125k-149k</td>\n",
       "      <td>0</td>\n",
       "      <td>25.0</td>\n",
       "    </tr>\n",
       "    <tr>\n",
       "      <th>4</th>\n",
       "      <td>5</td>\n",
       "      <td>0</td>\n",
       "      <td>CA</td>\n",
       "      <td>0</td>\n",
       "      <td>N</td>\n",
       "      <td>0</td>\n",
       "      <td>U</td>\n",
       "      <td>Female</td>\n",
       "      <td>$175k-199k</td>\n",
       "      <td>0</td>\n",
       "      <td>62.0</td>\n",
       "    </tr>\n",
       "  </tbody>\n",
       "</table>\n",
       "</div>"
      ],
      "text/plain": [
       "   anon_person_id  target state  presence_of_child_ind streaming_media_subs  \\\n",
       "0               1       0    CA                      0                    N   \n",
       "1               2       0    CA                      0                    N   \n",
       "2               3       1    CA                      0                    Y   \n",
       "3               4       0    CA                      1                    N   \n",
       "4               5       0    CA                      0                    N   \n",
       "\n",
       "   streaming_entertainment_subs marital_status  gender      income  \\\n",
       "0                             0              M  Female  $175k-199k   \n",
       "1                             0              U    Male  $225k-249k   \n",
       "2                             1              S  Female  $150k-174k   \n",
       "3                             0              U  Female  $125k-149k   \n",
       "4                             0              U  Female  $175k-199k   \n",
       "\n",
       "   number_of_news_subs   age  \n",
       "0                    0  43.0  \n",
       "1                    0  90.0  \n",
       "2                    0  46.0  \n",
       "3                    0  25.0  \n",
       "4                    0  62.0  "
      ]
     },
     "execution_count": 15,
     "metadata": {},
     "output_type": "execute_result"
    }
   ],
   "source": [
    "raw_df.head()"
   ]
  },
  {
   "cell_type": "code",
   "execution_count": 16,
   "metadata": {
    "collapsed": false
   },
   "outputs": [
    {
     "data": {
      "text/plain": [
       "(1000000, 11)"
      ]
     },
     "execution_count": 16,
     "metadata": {},
     "output_type": "execute_result"
    }
   ],
   "source": [
    "raw_df.shape"
   ]
  },
  {
   "cell_type": "code",
   "execution_count": 20,
   "metadata": {
    "collapsed": false
   },
   "outputs": [],
   "source": [
    "# Dropping exact duplicates\n",
    "raw_df.drop_duplicates(inplace=True)"
   ]
  },
  {
   "cell_type": "code",
   "execution_count": 21,
   "metadata": {
    "collapsed": false
   },
   "outputs": [
    {
     "data": {
      "text/plain": [
       "(999500, 11)"
      ]
     },
     "execution_count": 21,
     "metadata": {},
     "output_type": "execute_result"
    }
   ],
   "source": [
    "raw_df.shape"
   ]
  },
  {
   "cell_type": "code",
   "execution_count": 22,
   "metadata": {
    "collapsed": false
   },
   "outputs": [
    {
     "data": {
      "text/plain": [
       "999500"
      ]
     },
     "execution_count": 22,
     "metadata": {},
     "output_type": "execute_result"
    }
   ],
   "source": [
    "raw_df.anon_person_id.nunique()"
   ]
  },
  {
   "cell_type": "code",
   "execution_count": 26,
   "metadata": {
    "collapsed": false
   },
   "outputs": [
    {
     "data": {
      "text/plain": [
       "anon_person_id                      0\n",
       "target                              0\n",
       "state                           10024\n",
       "presence_of_child_ind               0\n",
       "streaming_media_subs                0\n",
       "streaming_entertainment_subs        0\n",
       "marital_status                      0\n",
       "gender                              0\n",
       "income                              0\n",
       "number_of_news_subs                 0\n",
       "age                             19601\n",
       "dtype: int64"
      ]
     },
     "execution_count": 26,
     "metadata": {},
     "output_type": "execute_result"
    }
   ],
   "source": [
    "# Looking at count of nulls per column\n",
    "raw_df.isnull().sum(axis=0)"
   ]
  },
  {
   "cell_type": "code",
   "execution_count": 30,
   "metadata": {
    "collapsed": false
   },
   "outputs": [
    {
     "data": {
      "text/plain": [
       "anon_person_id                    int64\n",
       "target                            int64\n",
       "state                            object\n",
       "presence_of_child_ind             int64\n",
       "streaming_media_subs             object\n",
       "streaming_entertainment_subs      int64\n",
       "marital_status                   object\n",
       "gender                           object\n",
       "income                           object\n",
       "number_of_news_subs               int64\n",
       "age                             float64\n",
       "dtype: object"
      ]
     },
     "execution_count": 30,
     "metadata": {},
     "output_type": "execute_result"
    }
   ],
   "source": [
    "raw_df.dtypes"
   ]
  },
  {
   "cell_type": "code",
   "execution_count": 31,
   "metadata": {
    "collapsed": true
   },
   "outputs": [],
   "source": [
    "# Converting the streaming_media_subs field to actual boolean\n",
    "raw_df['streaming_media_subs'] = np.where(raw_df['streaming_media_subs']=='Y',1,0)"
   ]
  },
  {
   "cell_type": "code",
   "execution_count": 32,
   "metadata": {
    "collapsed": false
   },
   "outputs": [
    {
     "data": {
      "text/html": [
       "<div>\n",
       "<table border=\"1\" class=\"dataframe\">\n",
       "  <thead>\n",
       "    <tr style=\"text-align: right;\">\n",
       "      <th></th>\n",
       "      <th>anon_person_id</th>\n",
       "      <th>target</th>\n",
       "      <th>state</th>\n",
       "      <th>presence_of_child_ind</th>\n",
       "      <th>streaming_media_subs</th>\n",
       "      <th>streaming_entertainment_subs</th>\n",
       "      <th>marital_status</th>\n",
       "      <th>gender</th>\n",
       "      <th>income</th>\n",
       "      <th>number_of_news_subs</th>\n",
       "      <th>age</th>\n",
       "    </tr>\n",
       "  </thead>\n",
       "  <tbody>\n",
       "    <tr>\n",
       "      <th>0</th>\n",
       "      <td>1</td>\n",
       "      <td>0</td>\n",
       "      <td>CA</td>\n",
       "      <td>0</td>\n",
       "      <td>0</td>\n",
       "      <td>0</td>\n",
       "      <td>M</td>\n",
       "      <td>Female</td>\n",
       "      <td>$175k-199k</td>\n",
       "      <td>0</td>\n",
       "      <td>43.0</td>\n",
       "    </tr>\n",
       "    <tr>\n",
       "      <th>1</th>\n",
       "      <td>2</td>\n",
       "      <td>0</td>\n",
       "      <td>CA</td>\n",
       "      <td>0</td>\n",
       "      <td>0</td>\n",
       "      <td>0</td>\n",
       "      <td>U</td>\n",
       "      <td>Male</td>\n",
       "      <td>$225k-249k</td>\n",
       "      <td>0</td>\n",
       "      <td>90.0</td>\n",
       "    </tr>\n",
       "    <tr>\n",
       "      <th>2</th>\n",
       "      <td>3</td>\n",
       "      <td>1</td>\n",
       "      <td>CA</td>\n",
       "      <td>0</td>\n",
       "      <td>1</td>\n",
       "      <td>1</td>\n",
       "      <td>S</td>\n",
       "      <td>Female</td>\n",
       "      <td>$150k-174k</td>\n",
       "      <td>0</td>\n",
       "      <td>46.0</td>\n",
       "    </tr>\n",
       "    <tr>\n",
       "      <th>3</th>\n",
       "      <td>4</td>\n",
       "      <td>0</td>\n",
       "      <td>CA</td>\n",
       "      <td>1</td>\n",
       "      <td>0</td>\n",
       "      <td>0</td>\n",
       "      <td>U</td>\n",
       "      <td>Female</td>\n",
       "      <td>$125k-149k</td>\n",
       "      <td>0</td>\n",
       "      <td>25.0</td>\n",
       "    </tr>\n",
       "    <tr>\n",
       "      <th>4</th>\n",
       "      <td>5</td>\n",
       "      <td>0</td>\n",
       "      <td>CA</td>\n",
       "      <td>0</td>\n",
       "      <td>0</td>\n",
       "      <td>0</td>\n",
       "      <td>U</td>\n",
       "      <td>Female</td>\n",
       "      <td>$175k-199k</td>\n",
       "      <td>0</td>\n",
       "      <td>62.0</td>\n",
       "    </tr>\n",
       "  </tbody>\n",
       "</table>\n",
       "</div>"
      ],
      "text/plain": [
       "   anon_person_id  target state  presence_of_child_ind  streaming_media_subs  \\\n",
       "0               1       0    CA                      0                     0   \n",
       "1               2       0    CA                      0                     0   \n",
       "2               3       1    CA                      0                     1   \n",
       "3               4       0    CA                      1                     0   \n",
       "4               5       0    CA                      0                     0   \n",
       "\n",
       "   streaming_entertainment_subs marital_status  gender      income  \\\n",
       "0                             0              M  Female  $175k-199k   \n",
       "1                             0              U    Male  $225k-249k   \n",
       "2                             1              S  Female  $150k-174k   \n",
       "3                             0              U  Female  $125k-149k   \n",
       "4                             0              U  Female  $175k-199k   \n",
       "\n",
       "   number_of_news_subs   age  \n",
       "0                    0  43.0  \n",
       "1                    0  90.0  \n",
       "2                    0  46.0  \n",
       "3                    0  25.0  \n",
       "4                    0  62.0  "
      ]
     },
     "execution_count": 32,
     "metadata": {},
     "output_type": "execute_result"
    }
   ],
   "source": [
    "# Plotting out distributions of the data scross the different fields\n"
   ]
  },
  {
   "cell_type": "markdown",
   "metadata": {},
   "source": [
    "### High Level Summary of the Data\n",
    "- 1M records with 999500 unique records for 999500 unique users.\n",
    "- Most fields have full coverage, but the user age and user state are missing values (~2% and ~1% respectively)"
   ]
  },
  {
   "cell_type": "code",
   "execution_count": 29,
   "metadata": {
    "collapsed": false
   },
   "outputs": [
    {
     "data": {
      "text/plain": [
       "0.01961080540270135"
      ]
     },
     "execution_count": 29,
     "metadata": {},
     "output_type": "execute_result"
    }
   ],
   "source": [
    "19601.0/999500.0"
   ]
  },
  {
   "cell_type": "code",
   "execution_count": null,
   "metadata": {
    "collapsed": true
   },
   "outputs": [],
   "source": []
  }
 ],
 "metadata": {
  "kernelspec": {
   "display_name": "Python 2",
   "language": "python",
   "name": "python2"
  },
  "language_info": {
   "codemirror_mode": {
    "name": "ipython",
    "version": 2
   },
   "file_extension": ".py",
   "mimetype": "text/x-python",
   "name": "python",
   "nbconvert_exporter": "python",
   "pygments_lexer": "ipython2",
   "version": "2.7.13"
  }
 },
 "nbformat": 4,
 "nbformat_minor": 2
}
